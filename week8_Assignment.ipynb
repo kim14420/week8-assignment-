{
  "nbformat": 4,
  "nbformat_minor": 0,
  "metadata": {
    "colab": {
      "provenance": [],
      "collapsed_sections": []
    },
    "kernelspec": {
      "name": "python3",
      "display_name": "Python 3"
    },
    "language_info": {
      "name": "python"
    }
  },
  "cells": [
    {
      "cell_type": "code",
      "execution_count": 100,
      "metadata": {
        "colab": {
          "base_uri": "https://localhost:8080/"
        },
        "id": "KXEpSYfQQg_Y",
        "outputId": "2ef49be3-1b65-492f-bf75-fe1c34e98f1e"
      },
      "outputs": [
        {
          "output_type": "stream",
          "name": "stdout",
          "text": [
            "Python\t6\n",
            "Java\t4\n",
            "Web\t3\n",
            "C\t1\n",
            "R\t1\n"
          ]
        }
      ],
      "source": [
        "langStr= (\"Java\",\"C\",\"Python\",\"R\",\"Web\")\n",
        "\n",
        "length = list(map(lambda x:len(x),langStr))\n",
        "length.sort(reverse=True)\n",
        "\n",
        "for i,j in zip(sorted(langStr,key=len,reverse=True),length):\n",
        "  print (f\"{i}\\t{j}\")\n"
      ]
    }
  ]
}